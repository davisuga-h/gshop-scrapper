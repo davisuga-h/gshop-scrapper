{
 "cells": [
  {
   "cell_type": "code",
   "execution_count": 44,
   "id": "dbeb02f9",
   "metadata": {
    "vscode": {
     "languageId": "ocaml"
    }
   },
   "outputs": [],
   "source": [
    "#require \"lwt\"\n",
    "#require \"cohttp\"\n",
    "#require \"cohttp-lwt-unix\"\n",
    "#require \"lambdasoup\"\n",
    "#require \"base\"\n",
    "#require \"ppx_deriving.show\"\n",
    "\n",
    "open Lwt\n",
    "open Cohttp\n",
    "open Cohttp_lwt_unix\n",
    "open Soup"
   ]
  },
  {
   "cell_type": "code",
   "execution_count": 45,
   "id": "ee8ed1b1",
   "metadata": {
    "vscode": {
     "languageId": "ocaml"
    }
   },
   "outputs": [
    {
     "data": {
      "text/plain": [
       "val uri : Uri.t = <abstr>\n"
      ]
     },
     "execution_count": 45,
     "metadata": {},
     "output_type": "execute_result"
    },
    {
     "data": {
      "text/plain": [
       "val headers : Cohttp.Header.t = <abstr>\n"
      ]
     },
     "execution_count": 45,
     "metadata": {},
     "output_type": "execute_result"
    }
   ],
   "source": [
    "\n",
    "\n",
    "let uri =\n",
    "  Uri.of_string\n",
    "    \"https://www.google.com/search?q=rtx%203060&source=lnms&tbm=shop&sa=X&ved=2ahUKEwiC-5PKneD5AhXLR7gEHY6nCnAQ_AUoAnoECAIQBA&biw=2560&bih=854&dpr=1.5\"\n",
    "\n",
    "let headers =\n",
    "  Header.add_list (Header.init ())\n",
    "    [\n",
    "   \n",
    "      (\"authority\", \"www.google.com\");\n",
    "      ( \"accept\",\n",
    "        \"text/html,application/xhtml+xml,application/xml;q=0.9,image/avif,image/webp,image/apng,*/*;q=0.8,application/signed-exchange;v=b3;q=0.9\"\n",
    "      );\n",
    "      (\"accept-language\", \"en-US,en;q=0.9\");\n",
    "      (\"cache-control\", \"max-age=0\");\n",
    "      (\"referer\", \"https://www.google.com/\");\n",
    "      (\"sec-ch-ua-mobile\", \"?0\");\n",
    "      (\"sec-ch-ua-wow64\", \"?0\");\n",
    "      (\"sec-fetch-dest\", \"document\");\n",
    "      (\"sec-fetch-mode\", \"navigate\");\n",
    "      (\"sec-fetch-site\", \"same-origin\");\n",
    "      (\"sec-fetch-user\", \"?1\");\n",
    "      (\"upgrade-insecure-requests\", \"1\");\n",
    "      ( \"user-agent\",\n",
    "        \"Mozilla/5.0 (X11; Linux x86_64) AppleWebKit/537.36 (KHTML, like \\\n",
    "         Gecko) Chrome/103.0.0.0 Safari/537.36\" );\n",
    "      ( \"x-client-data\",\n",
    "        \"CKy1yQEIj7bJAQiitskBCKmdygEI7f3KAQiUocsBCNvvywEIssHMAQjFwcwBCNfBzAEI18bMAQidycwBCOPLzAEYq6nKAQ==\"\n",
    "      );\n",
    "    ]\n"
   ]
  },
  {
   "cell_type": "code",
   "execution_count": 46,
   "id": "f216621d",
   "metadata": {
    "vscode": {
     "languageId": "ocaml"
    }
   },
   "outputs": [
    {
     "data": {
      "text/plain": [
       "val sopa : Soup.soup Soup.node = <abstr>\n"
      ]
     },
     "execution_count": 46,
     "metadata": {},
     "output_type": "execute_result"
    }
   ],
   "source": [
    "let sopa =\n",
    "  Client.call ~headers `GET uri\n",
    "  >>= (fun (_res, body_stream) ->\n",
    "        body_stream |> Cohttp_lwt.Body.to_string >|= Soup.parse)\n",
    "  |> Lwt_main.run\n",
    "  \n",
    "\n"
   ]
  },
  {
   "cell_type": "code",
   "execution_count": 71,
   "id": "86778fc3",
   "metadata": {
    "vscode": {
     "languageId": "ocaml"
    }
   },
   "outputs": [
    {
     "data": {
      "text/plain": [
       "val print_list : string list -> unit list = <fun>\n"
      ]
     },
     "execution_count": 71,
     "metadata": {},
     "output_type": "execute_result"
    },
    {
     "data": {
      "text/plain": [
       "type raw_offer = { price : string; name : string; seller : string; }\n"
      ]
     },
     "execution_count": 71,
     "metadata": {},
     "output_type": "execute_result"
    },
    {
     "name": "stdout",
     "output_type": "stream",
     "text": [
      "Placa De Vídeo Gigabyte Geforce RTX 3060 Eagle 12GB Oc GDDR6 - GV-N3060EAGLE OC-12GD\n",
      "Placa De Vídeo Msi Geforce RTX 3060 Ventus 3x 12GB Oc LHR\n",
      "Nova marca gigabyte rtx 3060 ti placa gráfica oc 8g para desktop gaming gigabyte ...\n",
      "Placa De Vídeo Geforce RTX 3060 1-Click OC, 12GB GDDR6, 36NOL7MD1VOC Galax\n",
      "Placa De Vídeo Palit Geforce RTX 3060 12GB - GDDR6 Dual NE63060019K9-190AD\n",
      "Placa De Vídeo Gigabyte Geforce RTX 3060 Gaming Oc 12GB\n",
      "Placa De Video Gigabyte Geforce RTX 3060 Eagle 12GB Rev 2.0 LHR - GV-N3060EAGLE-12GD\n",
      "Placa De Vídeo Geforce RTX 3060 V2 Dual 12GB GDDR6 Asus\n",
      "Placa De Vídeo Geforce RTX 3060, 12GB, Twin Edge, GDDR6, Zotac - ZT-A30600E-10M\n",
      "Placa De Video Colorful iGame Geforce RTX 3060 Ultra W Oc LHR-V 12GB GDDR6 192bit\n",
      "Placa De vídeo, Gigabyte, Geforce RTX 3060 Vision Oc 12g LHR, GDDR6, DLSS Ray ...\n",
      "Placa De Vídeo Pny RTX 3060 12GB GDDR6 Revel EPIC-X\n",
      "Placa De Video Colorful iGame Geforce RTX 3060 Nb Duo LHR-V 12GB GDDR6 192bit\n",
      "Placa De Vídeo Asus Geforce Tuf Gaming RTX 3060 12GB V2\n",
      "Original gigabyte gigabyte geforce rtx 3060 3060ti 3070 3080 3080ti 3090 neve ...\n",
      "Placa De Vídeo Gigabyte Geforce RTX 3060 Vision Oc 12GB\n",
      "Placa De Vídeo Gainward Geforce RTX 3060 Ghost Oc 12GB\n",
      "Placa De Video Colorful iGame Geforce RTX 3060 Bilibili E-sports Edition Oc LHR-V ...\n",
      "Placa De Vídeo Asus Geforce RTX 3060 Ko V2 LHR 12 Gb GDDR6\n",
      "Placa De Video Colorful iGame Geforce RTX 3060 Bilibili E-sports Edition 12GB ...\n",
      "Placa De Vídeo Gainward Geforce RTX 3060 Ti Ghost 8gb GDDR6\n",
      "Placa De Vídeo Msi Geforce RTX 3060 Ti Ventus 2x, 8gb GDDR6\n",
      "Placa De Vídeo Msi Geforce RTX 3060 Ti Ventus 2x 8gb 3060TI\n",
      "Placa De Video Msi Geforce RTX 3060 Gaming X 12GB GDDR6 192\n",
      "Placa Gráfica Gigabyte Geforce RTX 3060 Ti Eagle Oc 8g (rev. 2.0)\n",
      "Placa De Vídeo Gainward Geforce RTX 3050 8gb Pegasus GDDR6 - NE63050019P1-190AE\n",
      "Placa De Video Msi Geforce RTX 3060 Gaming Z Trio, 12GB, GDDR6, 192-bit, 912-V390-245\n",
      "Original usado msi geforce rtx 3060ti placa gráfica, refrigerador\n",
      "Placa De Vídeo Palit Geforce RTX 3060 Ti LHR Dual 8gb GDDR6\n",
      "Placa De Vídeo Palit Geforce RTX 3050 Dual 8gb GDDR6\n",
      "Placa De Vídeo WinFast Geforce RTX 3060 Ti Hurricane, 8GB, GDDR6, LHR, DLSS, RTX ...\n",
      "Placa De Video Msi Geforce RTX 3060 Ti Gaming X, LHR, 8GB, GDDR6, 256-bit, 912 ...\n",
      "Placa De Vídeo Geforce RTX 3060 V2 Oc 12GB GDDR6 ROG-STRIX-RTX3060-O12G-V2-GAMING ...\n",
      "Placa De Video Asus Geforce RTX 3060 Ti Ko OC, LHR, 8GB, GDDR6, 256-bit, KO ...\n",
      "Placa De Vídeo Msi RTX 3060TI Twin Fan Oc Edition 8gb\n",
      "Placa De Vídeo Palit Nvidia Geforce RTX 3060 Ti, OC, Dual, 8GB, GDDR6, LHR ...\n",
      "RTX 3060 Leadtek LHR 12GB Branca\n",
      "Placa De Vídeo Zotac Geforce RTX 3060 12GB GDDR6 Twin Edge Oc Zt-A30600H-10M\n",
      "Placa De Vídeo Gainward Geforce RTX 3060 Pegasus 12GB GDDR6\n",
      "Asus Placa Gráfica RTX 3060 Ti V2 Mini 8gb GDDR6 Preto\n",
      "Placa De Vídeo Msi Nvidia Geforce RTX 3060 Gaming Z Trio 12g, RGB, LHR, DLSS, Ray ...\n",
      "Placa De Vídeo EVGA Geforce RTX 3060 Xc Gaming 12GB GDDR6 - 12G-P5-3657-KR\n",
      "Placa De Vídeo Gigabyte Geforce RTX 3050 Eagle Oc 8gb GDDR6\n",
      "Placa De Vídeo Gainward Ghost Geforce RTX 3060, 12GB GDDR6\n",
      "Asus | Asus Ko Rtx 3060 Oc | Usado\n",
      "Placa De Vídeo Gigabyte RTX 3060 Vision - 12GB, 192bits, Oc\n",
      "Nova Placa Gráfica GeForce RTX 3090 3080 3080Ti 3070 3070Ti 3060 3060Ti 8G 10G ...\n",
      "Placa De Vídeo Galax Geforce RTX 3060 Ti 8gb 1-Click Oc GDDR6 LHR - 36ISL6MD1VQW\n",
      "Placa De Video Colorful iGame Geforce RTX 3060 Advanced Oc LHR-V 12GB GDDR6 192bit\n",
      "Cartões de gráficos RTX 3060 Terminador 12G GDDR6 GPU NVIDIA PC 192BIT PCI ...\n",
      "Placa De Vídeo INNO3D Geforce RTX 3060 iChill X3 Red, 12GB, LHR, GDDR6, DLSS, Ray ...\n",
      "Placa De Vídeo Gigabyte Geforce RTX 3060 Ti Gaming Oc 8g LHR\n",
      "Placa De Vídeo Zotac Geforce RTX 3060 Ti Twin Edge LHR 8gb GDDR6 256 Bits ZT ...\n",
      "Placa De Video Asus Geforce RTX 3060 Ti Dual OC, LHR, 8gb GDDR6, 256Bit, DUAL ...\n",
      "Placa De Vídeo Asus Geforce RTX 3060 Tuf Gaming 12GB GDDR6\n",
      "Maxsun placas gráficas rtx 2060 super 3060 icraft 6gb/8gb gddr6 3050 1660super ...\n",
      "Placa De Vídeo Zotac Geforce RTX 3050 Twin Edge Oc 8gb GDDR6\n",
      "Placa De Video RTX 3060 Ti Asus Rog Strix Oc LHR 8gb GDDR6\n",
      "Placa De Vídeo Gigabyte Geforce RTX 3060 Ti Vision Oc LHR 8gb GDDR6 256Bits - GV ...\n",
      "Gigabyte Geforce RTX 3060 Gaming Oc 12g (Rev2.0) Carta gráfica, Fãs De Windforce ...\n"
     ]
    },
    {
     "data": {
      "text/plain": [
       "val titles : unit = ()\n"
      ]
     },
     "execution_count": 71,
     "metadata": {},
     "output_type": "execute_result"
    },
    {
     "data": {
      "text/plain": [
       "val links : Soup.element Soup.nodes = <abstr>\n"
      ]
     },
     "execution_count": 71,
     "metadata": {},
     "output_type": "execute_result"
    },
    {
     "data": {
      "text/plain": [
       "val remove_nondigit : string -> string = <fun>\n"
      ]
     },
     "execution_count": 71,
     "metadata": {},
     "output_type": "execute_result"
    },
    {
     "data": {
      "text/plain": [
       "type offer = {\n",
       "  title : string;\n",
       "  price : float;\n",
       "  link : string;\n",
       "  seller : string;\n",
       "}\n",
       "val pp_offer :\n",
       "  Ppx_deriving_runtime.Format.formatter -> offer -> Ppx_deriving_runtime.unit =\n",
       "  <fun>\n",
       "val show_offer : offer -> Ppx_deriving_runtime.string = <fun>\n"
      ]
     },
     "execution_count": 71,
     "metadata": {},
     "output_type": "execute_result"
    },
    {
     "data": {
      "text/plain": [
       "val sort_offers : offer -> offer -> int = <fun>\n"
      ]
     },
     "execution_count": 71,
     "metadata": {},
     "output_type": "execute_result"
    },
    {
     "data": {
      "text/plain": [
       "type offerBase = {\n",
       "  container : Soup.element Soup.node;\n",
       "  link : string;\n",
       "  seller : string option;\n",
       "}\n"
      ]
     },
     "execution_count": 71,
     "metadata": {},
     "output_type": "execute_result"
    },
    {
     "data": {
      "text/plain": [
       "val parent_exn : 'a Soup.node -> Soup.element Soup.node = <fun>\n"
      ]
     },
     "execution_count": 71,
     "metadata": {},
     "output_type": "execute_result"
    },
    {
     "data": {
      "text/plain": [
       "module OfferMap :\n",
       "  sig\n",
       "    type key = String.t\n",
       "    type 'a t = 'a Map.Make(String).t\n",
       "    val empty : 'a t\n",
       "    val is_empty : 'a t -> bool\n",
       "    val mem : key -> 'a t -> bool\n",
       "    val add : key -> 'a -> 'a t -> 'a t\n",
       "    val update : key -> ('a option -> 'a option) -> 'a t -> 'a t\n",
       "    val singleton : key -> 'a -> 'a t\n",
       "    val remove : key -> 'a t -> 'a t\n",
       "    val merge :\n",
       "      (key -> 'a option -> 'b option -> 'c option) -> 'a t -> 'b t -> 'c t\n",
       "    val union : (key -> 'a -> 'a -> 'a option) -> 'a t -> 'a t -> 'a t\n",
       "    val compare : ('a -> 'a -> int) -> 'a t -> 'a t -> int\n",
       "    val equal : ('a -> 'a -> bool) -> 'a t -> 'a t -> bool\n",
       "    val iter : (key -> 'a -> unit) -> 'a t -> unit\n",
       "    val fold : (key -> 'a -> 'b -> 'b) -> 'a t -> 'b -> 'b\n",
       "    val for_all : (key -> 'a -> bool) -> 'a t -> bool\n",
       "    val exists : (key -> 'a -> bool) -> 'a t -> bool\n",
       "    val filter : (key -> 'a -> bool) -> 'a t -> 'a t\n",
       "    val filter_map : (key -> 'a -> 'b option) -> 'a t -> 'b t\n",
       "    val partition : (key -> 'a -> bool) -> 'a t -> 'a t * 'a t\n",
       "    val cardinal : 'a t -> int\n",
       "    val bindings : 'a t -> (key * 'a) list\n",
       "    val min_binding : 'a t -> key * 'a\n",
       "    val min_binding_opt : 'a t -> (key * 'a) option\n",
       "    val max_binding : 'a t -> key * 'a\n",
       "    val max_binding_opt : 'a t -> (key * 'a) option\n",
       "    val choose : 'a t -> key * 'a\n",
       "    val choose_opt : 'a t -> (key * 'a) option\n",
       "    val split : key -> 'a t -> 'a t * 'a option * 'a t\n",
       "    val find : key -> 'a t -> 'a\n",
       "    val find_opt : key -> 'a t -> 'a option\n",
       "    val find_first : (key -> bool) -> 'a t -> key * 'a\n",
       "    val find_first_opt : (key -> bool) -> 'a t -> (key * 'a) option\n",
       "    val find_last : (key -> bool) -> 'a t -> key * 'a\n",
       "    val find_last_opt : (key -> bool) -> 'a t -> (key * 'a) option\n",
       "    val map : ('a -> 'b) -> 'a t -> 'b t\n",
       "    val mapi : (key -> 'a -> 'b) -> 'a t -> 'b t\n",
       "    val to_seq : 'a t -> (key * 'a) Seq.t\n",
       "    val to_rev_seq : 'a t -> (key * 'a) Seq.t\n",
       "    val to_seq_from : key -> 'a t -> (key * 'a) Seq.t\n",
       "    val add_seq : (key * 'a) Seq.t -> 'a t -> 'a t\n",
       "    val of_seq : (key * 'a) Seq.t -> 'a t\n",
       "  end\n"
      ]
     },
     "execution_count": 71,
     "metadata": {},
     "output_type": "execute_result"
    }
   ],
   "source": [
    "let print_list = List.map print_string\n",
    "\n",
    "type raw_offer = { price : string; name : string; seller : string }\n",
    "\n",
    "let titles = sopa $$ \"h4\" |> iter (fun a -> print_endline (R.leaf_text a))\n",
    "let links = sopa $ \"#rso > div ~ div\" $$ \"a[target]\"\n",
    "let remove_nondigit = Str.global_replace (Str.regexp \"[^0-9]+\") \"\"\n",
    "\n",
    "type offer = { title : string; price : float; link : string; seller : string }\n",
    "[@@deriving show]\n",
    "let sort_offers offer_a offer_b = offer_a.price -. offer_b.price |> int_of_float\n",
    "\n",
    "type offerBase = {\n",
    "  container : element node;\n",
    "  link : string;\n",
    "  seller : string option;\n",
    "}\n",
    "let parent_exn el = parent el |> Option.get\n",
    "module OfferMap = Map.Make (String)\n"
   ]
  },
  {
   "cell_type": "code",
   "execution_count": null,
   "id": "c5802e8c",
   "metadata": {
    "vscode": {
     "languageId": "ocaml"
    }
   },
   "outputs": [],
   "source": []
  },
  {
   "cell_type": "code",
   "execution_count": null,
   "id": "10195ee8",
   "metadata": {
    "vscode": {
     "languageId": "ocaml"
    }
   },
   "outputs": [],
   "source": []
  },
  {
   "cell_type": "code",
   "execution_count": 48,
   "id": "8036fe5b",
   "metadata": {
    "vscode": {
     "languageId": "ocaml"
    }
   },
   "outputs": [
    {
     "data": {
      "text/plain": [
       "val link_element : Soup.element Soup.node = <abstr>\n"
      ]
     },
     "execution_count": 48,
     "metadata": {},
     "output_type": "execute_result"
    }
   ],
   "source": [
    "let link_element = links |> to_list |> (fun x -> List.nth  x 1)"
   ]
  },
  {
   "cell_type": "code",
   "execution_count": 64,
   "id": "238a7267",
   "metadata": {
    "vscode": {
     "languageId": "ocaml"
    }
   },
   "outputs": [
    {
     "data": {
      "text/plain": [
       "val make_search_term : string -> string = <fun>\n"
      ]
     },
     "execution_count": 64,
     "metadata": {},
     "output_type": "execute_result"
    }
   ],
   "source": [
    "let make_search_term =\n",
    "  Printf.sprintf\n",
    "    \"https://www.google.com/search?q=%s&source=lnms&tbm=shop&sa=X&ved=2ahUKEwiC-5PKneD5AhXLR7gEHY6nCnAQ_AUoAnoECAIQBA&biw=2560&bih=854&dpr=1.5\"\n"
   ]
  },
  {
   "cell_type": "code",
   "execution_count": null,
   "id": "cc6e0223",
   "metadata": {
    "vscode": {
     "languageId": "ocaml"
    }
   },
   "outputs": [],
   "source": []
  },
  {
   "cell_type": "code",
   "execution_count": 50,
   "id": "7e51cd10",
   "metadata": {
    "vscode": {
     "languageId": "ocaml"
    }
   },
   "outputs": [
    {
     "data": {
      "text/plain": [
       "- : string option =\n",
       "Some\n",
       " \"/url?url=https://www.terabyteshop.com.br/produto/21401/placa-de-video-gigabyte-geforce-rtx-3060-eagle-oc-12g-lhr-12gb-gddr6-dlss-ray-tracing-gv-n3060eagle-oc-12gd%3Fsrsltid%3DAdGWZVTsd1HQeNIdanGEV_oW5e5iPa-wRwbHAUF3Yw0GUdkVwmkkRN2poaA&rct=j&q=&esrc=s&sa=U&ved=0ahUKEwjnh-CzwOP5AhWAvJUCHSKbAZoQguUEC\"... (* string length 334; truncated *)\n"
      ]
     },
     "execution_count": 50,
     "metadata": {},
     "output_type": "execute_result"
    }
   ],
   "source": [
    "attribute \"href\" link_element"
   ]
  },
  {
   "cell_type": "code",
   "execution_count": 73,
   "id": "cf43b395",
   "metadata": {
    "vscode": {
     "languageId": "ocaml"
    }
   },
   "outputs": [
    {
     "data": {
      "text/plain": [
       "val scrap_offers : 'a Soup.node -> offer list = <fun>\n"
      ]
     },
     "execution_count": 73,
     "metadata": {},
     "output_type": "execute_result"
    }
   ],
   "source": [
    "let scrap_offers page =\n",
    "  page\n",
    "  $$ \"a[target]\"\n",
    "  |> to_list\n",
    "  |> List.fold_left\n",
    "       (fun acc link_element ->\n",
    "         try\n",
    "           let container =\n",
    "             try\n",
    "               link_element\n",
    "               |> parent_exn\n",
    "               |> parent_exn\n",
    "               |> parent_exn\n",
    "               |> parent_exn\n",
    "             with _ -> failwith \"Failed to find link container\"\n",
    "           in\n",
    "\n",
    "           let link = R.attribute \"href\" link_element in\n",
    "           let seller = R.leaf_text (link_element $ \"div + div + div\") in\n",
    "           let title = R.leaf_text (container $ \"h4\") in\n",
    "\n",
    "           let price =\n",
    "             container\n",
    "             $ \"span > span > span > span\"\n",
    "             |> R.leaf_text\n",
    "             |> remove_nondigit\n",
    "             |> float_of_string\n",
    "             |> fun n -> n /. 100.\n",
    "           in\n",
    "\n",
    "           OfferMap.add title { link; title; seller; price } acc\n",
    "         with _ -> acc)\n",
    "       OfferMap.empty\n",
    "  |> OfferMap.bindings\n",
    "  |> List.map snd\n",
    "  |> List.sort sort_offers"
   ]
  },
  {
   "cell_type": "code",
   "execution_count": 63,
   "id": "7f15a16e",
   "metadata": {
    "vscode": {
     "languageId": "ocaml"
    }
   },
   "outputs": [
    {
     "data": {
      "text/plain": [
       "val bindings : (OfferMap.key * offer) list =\n",
       "  [(\"Asus Placa Gráfica RTX 3060 Ti V2 Mini 8gb GDDR6 Preto\",\n",
       "    {title = \"Asus Placa Gráfica RTX 3060 Ti V2 Mini 8gb GDDR6 Preto\";\n",
       "     price = 2782.99;\n",
       "     link =\n",
       "      \"/url?url=https://www.tradeinn.com/techinn/pt/asus-placa-grafica-rtx-3060-ti-v2-mini-8gb-gddr6/139174177/p%3Futm_source%3Dgoogle_products%26utm_medium%3Dmerchant%26id_producte%3D17173180%26country%3Dbr&rct=j&q=&esrc=s&sa=U&ved=0ahUKEwjnh-CzwOP5AhWAvJUCHSKbAZoQguUECOgS&usg=AOvVaw0hLsLYklY-H6z\"... (* string length 300; truncated *);\n",
       "     seller = \"Techinn.com\"});\n",
       "   (\"Asus | Asus Ko Rtx 3060 Oc | Usado\",\n",
       "    {title = \"Asus | Asus Ko Rtx 3060 Oc | Usado\"; price = 3200.;\n",
       "     link =\n",
       "      \"/url?url=https://www.enjoei.com.br/p/asus-ko-rtx-3060-oc-72177042%3Fg_campaign%3Dgoogle_shopping&rct=j&q=&esrc=s&sa=U&ved=0ahUKEwjnh-CzwOP5AhWAvJUCHSKbAZoQgOUECLUT&usg=AOvVaw0mGTv1Da6Dbp_nFPJ9RKAj\";\n",
       "     seller = \"Enjoei.com\"});\n",
       "   (\"Cartões de gráficos RTX 3060 Terminador 12G GDDR6 GPU NVIDIA PC 192BIT PCI ...\",\n",
       "    {title =\n",
       "      \"Cartões de gráficos RTX 3060 Terminador 12G GDDR6 GPU NVIDIA PC 192BIT PCI ...\";\n",
       "     price = 3.07;\n",
       "     link =\n",
       "      \"/url?url=https://pt.dhgate.com/product/graphics-cards-rtx-3060-terminator-12g-gddr6/775518798.html%3Ff%3Dbm%257CGMC%257C%257Bifdyn:dyn%257D%257Bifpla:pla%257D%257Bifdbm:DBM%257D%257C%257Bcampaignid%257D%257C%257Badgroupid%257D%257C775518798%257C%257Btargetid%257D%257C10400\"... (* string length 570; truncated *);\n",
       "     seller = \"DHgate online store\"});\n",
       "   (\"Gigabyte Geforce RTX 3060 Gaming Oc 12g (Rev2.0) Carta gráfica, Fãs De Windforce ...\",\n",
       "    {title =\n",
       "      \"Gigabyte Geforce RTX 3060 Gaming Oc 12g (Rev2.0) Carta gráfica, Fãs De Windforce ...\";\n",
       "     price = 2146.44;\n",
       "     link =\n",
       "      \"/url?url=https://www.bhphotovideo.com/c/product/1661950-REG/gigabyte_gv_n3060gaming_oc_12gd_rev2_0_geforce_rtx_3060_gaming.html%3FBI%3D518%26kw%3DGIN3060GO122%26srsltid%3DAdGWZVT9MDl45Vf3bXL3uYzDeJ8RgjdTSrsez_quyuW58KiWHzc2f_TodiY&rct=j&q=&esrc=s&sa=U&ved=0ahUKEwj\"... (* string length 330; truncated *);\n",
       "     seller = \"B&H Photo-Video-Audio\"});\n",
       "   (\"Maxsun placas gráficas rtx 2060 super 3060 icraft 6gb/8gb gddr6 3050 1660super ...\",\n",
       "    {title =\n",
       "      \"Maxsun placas gráficas rtx 2060 super 3060 icraft 6gb/8gb gddr6 3050 1660super ...\";\n",
       "     price = 1698.74;\n",
       "     link =\n",
       "      \"/url?url=https://s.click.aliexpress.com/deep_link.htm%3Faff_short_key%3DUneMJZVf%26dl_target_url%3Dhttps%253A%252F%252Fwww.aliexpress.com%252Fitem%252F1005004500494649.html%253F_randl_currency%253DBRL%2526_randl_shipto%253DBR%2526src%253Dgoogle&rct=j&q=&e\"... (* string length 344; truncated *);\n",
       "     seller = \"AliExpress.com\"});\n",
       "   (\"Nova Placa Gráfica GeForce RTX 3090 3080 3080Ti 3070 3070Ti 3060 3060Ti 8G 10G ...\",\n",
       "    {title =\n",
       "      \"Nova Placa Gráfica GeForce RTX 3090 3080 3080Ti 3070 3070Ti 3060 3060Ti 8G 10G ...\";\n",
       "     price = 2534.45;\n",
       "     link =\n",
       "      \"/url?url=https://s.click.aliexpress.com/deep_link.htm%3Faff_short_key%3DUneMJZVf%26dl_target_url%3Dhttps%253A%252F%252Fwww.aliexpress.com%252Fitem%252F1005004271703376.html%253F_randl_currency%253DBRL%2526_randl_shipto%253DBR%2526src%253Dgoogle&r\"... (* string length 344; truncated *);\n",
       "     seller = \"AliExpress.com\"});\n",
       "   (\"Nova marca gigabyte rtx 3060 ti placa gráfica oc 8g para desktop gaming gigabyte ...\",\n",
       "    {title =\n",
       "      \"Nova marca gigabyte rtx 3060 ti placa gráfica oc 8g para desktop gaming gigabyte ...\";\n",
       "     price = 2098.02;\n",
       "     link =\n",
       "      \"/url?url=https://s.click.aliexpress.com/deep_link.htm%3Faff_short_key%3DUneMJZVf%26dl_target_url%3Dhttps%253A%252F%252Fwww.aliexpress.com%252Fitem%252F1005004568617750.html%253F_randl_currency%253DBRL%2526_randl_shipto%253DBR%2526src%253\"... (* string length 344; truncated *);\n",
       "     seller = \"AliExpress.com\"});\n",
       "   (\"Original gigabyte gigabyte geforce rtx 3060 3060ti 3070 3080 3080ti 3090 neve ...\",\n",
       "    {title =\n",
       "      \"Original gigabyte gigabyte geforce rtx 3060 3060ti 3070 3080 3080ti 3090 neve ...\";\n",
       "     price = 1502.34;\n",
       "     link =\n",
       "      \"/url?url=https://s.click.aliexpress.com/deep_link.htm%3Faff_short_key%3DUneMJZVf%26dl_target_url%3Dhttps%253A%252F%252Fwww.aliexpress.com%252Fitem%252F1005004150363764.html%253F_randl_currency%253DBRL%2526_randl_shipto%253DBR%25\"... (* string length 344; truncated *);\n",
       "     seller = \"AliExpress.com\"});\n",
       "   (\"Original usado msi geforce rtx 3060ti placa gráfica, refrigerador\",\n",
       "    {title =\n",
       "      \"Original usado msi geforce rtx 3060ti placa gráfica, refrigerador\";\n",
       "     price = 772.63;\n",
       "     link =\n",
       "      \"/url?url=https://s.click.aliexpress.com/deep_link.htm%3Faff_short_key%3DUneMJZVf%26dl_target_url%3Dhttps%253A%252F%252Fwww.aliexpress.com%252Fitem%252F1005004154140723.html%253F_randl_currency%253DBRL%2526_randl_shipto%\"... (* string length 344; truncated *);\n",
       "     seller = \"AliExpress.com\"});\n",
       "   (\"Placa De Video Asus Geforce RTX 3060 Ti Dual OC, LHR, 8gb GDDR6, 256Bit, DUAL ...\",\n",
       "    {title =\n",
       "      \"Placa De Video Asus Geforce RTX 3060 Ti Dual OC, LHR, 8gb GDDR6, 256Bit, DUAL ...\";\n",
       "     price = 3499.;\n",
       "     link =\n",
       "      \"/url?url=https://www.eliteplayer.com.br/placa-de-video-asus-nvidia-geforce-dual-rtx-3060-ti-o8g-v2-rgb-8gb-gddr6-dlss-lhr-ray-tracing%3Fsrsltid%3DAdGWZVSnnrS3FCMuNUshbmI3ZJGOmEGggHsrLx-5oUEn8k2ht_eMn6fIvvc&rct=\"... (* string length 305; truncated *);\n",
       "     seller = \"Elite Player\"});\n",
       "   (\"Placa De Video Asus Geforce RTX 3060 Ti Ko OC, LHR, 8GB, GDDR6, 256-bit, KO ...\",\n",
       "    {title =\n",
       "      \"Placa De Video Asus Geforce RTX 3060 Ti Ko OC, LHR, 8GB, GDDR6, 256-bit, KO ...\";\n",
       "     price = 4299.47;\n",
       "     link =\n",
       "      \"/url?url=https://www.bringit.com.br/placa-de-video-asus-nvidia-geforce-ko-rtx-3060-ti-v2-oc-edition-8gb-gddr6-lhr-256-bits-hdmi-dp-ko-rtx3060ti-o8g-v2-gaming.html%3Futm_campaign%3Dfeed%26utm_medium%3Ds\"... (* string length 402; truncated *);\n",
       "     seller = \"bringit.com.br\"});\n",
       "   (\"Placa De Video Colorful iGame Geforce RTX 3060 Advanced Oc LHR-V 12GB GDDR6 192bit\",\n",
       "    {title =\n",
       "      \"Placa De Video Colorful iGame Geforce RTX 3060 Advanced Oc LHR-V 12GB GDDR6 192bit\";\n",
       "     price = 3451.1;\n",
       "     link =\n",
       "      \"/url?url=https://www.zanochi.com.br/shop-2/informatica/componentes_de_informatica/placas_de_video/placa-de-video-colorful-igame-geforce-rtx-3060-advanced-oc-lhr-v-12gb-gddr6-192bit/%3Fsrsltid%\"... (* string length 353; truncated *);\n",
       "     seller = \"Zanochi Camboriú\"});\n",
       "   (\"Placa De Video Colorful iGame Geforce RTX 3060 Bilibili E-sports Edition 12GB ...\",\n",
       "    {title =\n",
       "      \"Placa De Video Colorful iGame Geforce RTX 3060 Bilibili E-sports Edition 12GB ...\";\n",
       "     price = 3745.;\n",
       "     link =\n",
       "      \"/url?url=https://www.lootbox.com.br/placa-de-video-colorful-igame-geforce-rtx-3060-bilibili-e-sports-edition-12gb-gddr6-192bit-colorful&rct=j&q=&esrc=s&sa=U&ved=0ahUKEwjnh-CzwOP5AhWAv\"... (* string length 235; truncated *);\n",
       "     seller = \"loot box gamer\"});\n",
       "   (\"Placa De Video Colorful iGame Geforce RTX 3060 Bilibili E-sports Edition Oc LHR-V ...\",\n",
       "    {title =\n",
       "      \"Placa De Video Colorful iGame Geforce RTX 3060 Bilibili E-sports Edition Oc LHR-V ...\";\n",
       "     price = 2888.27;\n",
       "     link =\n",
       "      \"/url?url=https://www.pontofrio.com.br/placa-de-video-colorful-igame-geforce-rtx-3060-bilibili-e-sports-edition-oc-lhr-v-12gb-gddr6-192bit-1535388131/p/1535388131%3Futm_medium\"... (* string length 374; truncated *);\n",
       "     seller = \"Pontofrio.com\"});\n",
       "   (\"Placa De Video Colorful iGame Geforce RTX 3060 Nb Duo LHR-V 12GB GDDR6 192bit\",\n",
       "    {title =\n",
       "      \"Placa De Video Colorful iGame Geforce RTX 3060 Nb Duo LHR-V 12GB GDDR6 192bit\";\n",
       "     price = 2800.72;\n",
       "     link =\n",
       "      \"/url?url=https://www.casasbahia.com.br/placa-de-video-colorful-igame-geforce-rtx-3060-nb-duo-lhr-v-12gb-gddr6-192bit-1535388927/p/1535388927%3Futm_medium%3DCpc%26utm\"... (* string length 353; truncated *);\n",
       "     seller = \"Casas Bahia\"});\n",
       "   (\"Placa De Video Colorful iGame Geforce RTX 3060 Ultra W Oc LHR-V 12GB GDDR6 192bit\",\n",
       "    {title =\n",
       "      \"Placa De Video Colorful iGame Geforce RTX 3060 Ultra W Oc LHR-V 12GB GDDR6 192bit\";\n",
       "     price = 2800.72;\n",
       "     link =\n",
       "      \"/url?url=https://www.extra.com.br/placa-de-video-colorful-igame-geforce-rtx-3060-ultra-w-oc-lhr-v-12gb-gddr6-192bit-1535565476/p/1535565476%3Futm_medium%3Dc\"... (* string length 352; truncated *);\n",
       "     seller = \"Extra.com.br\"});\n",
       "   (\"Placa De Video Gigabyte Geforce RTX 3060 Eagle 12GB Rev 2.0 LHR - GV-N3060EAGLE-12GD\",\n",
       "    {title =\n",
       "      \"Placa De Video Gigabyte Geforce RTX 3060 Eagle 12GB Rev 2.0 LHR - GV-N3060EAGLE-12GD\";\n",
       "     price = 3407.95;\n",
       "     link =\n",
       "      \"/url?url=https://www.shop.flitz.com.br/MLB-2757533626-placa-de-video-gigabyte-eagle-rtx-3060-gv-n3060eagle-12gd-_JM&rct=j&q=&esrc=s&sa=U&ved=0ahUKE\"... (* string length 215; truncated *);\n",
       "     seller = \"Flitz\"});\n",
       "   (\"Placa De Video Msi Geforce RTX 3060 Gaming X 12GB GDDR6 192\",\n",
       "    {title = \"Placa De Video Msi Geforce RTX 3060 Gaming X 12GB GDDR6 192\";\n",
       "     price = 3299.;\n",
       "     link =\n",
       "      \"/url?url=https://www.guerradigital.com.br/produtos/msi-geforce-rtx-3060-gaming-x-12gb-gddr6-192-bit-912-v397-019/%3Fpf%3Dgs&rct=j&q=&esrc=\"... (* string length 223; truncated *);\n",
       "     seller = \"Guerra Digital\"});\n",
       "   (\"Placa De Video Msi Geforce RTX 3060 Gaming Z Trio, 12GB, GDDR6, 192-bit, 912-V390-245\",\n",
       "    {title =\n",
       "      \"Placa De Video Msi Geforce RTX 3060 Gaming Z Trio, 12GB, GDDR6, 192-bit, 912-V390-245\";\n",
       "     price = 2899.99;\n",
       "     link =\n",
       "      \"/url?url=https://www.kabum.com.br/produto/374617/placa-de-video-msi-nvidia-geforce-rtx-3060-gaming-z-trio-12gb-gddr-rgb-dlss-ray-\"... (* string length 321; truncated *);\n",
       "     seller = \"KaBuM!\"});\n",
       "   (\"Placa De Video Msi Geforce RTX 3060 Ti Gaming X, LHR, 8GB, GDDR6, 256-bit, 912 ...\",\n",
       "    {title =\n",
       "      \"Placa De Video Msi Geforce RTX 3060 Ti Gaming X, LHR, 8GB, GDDR6, 256-bit, 912 ...\";\n",
       "     price = 4180.9;\n",
       "     link =\n",
       "      \"/url?url=https://www.netshoes.com.br/pdp/NWE-0008-006%3Fcampaign%3Dgglepqpla%26srsltid%3DAdGWZVT3o-BCdFdCMsAnMZhXJzVh8zN\"... (* string length 248; truncated *);\n",
       "     seller = \"Netshoes\"});\n",
       "   (\"Placa De Video RTX 3060 Ti Asus Rog Strix Oc LHR 8gb GDDR6\",\n",
       "    {title = \"Placa De Video RTX 3060 Ti Asus Rog Strix Oc LHR 8gb GDDR6\";\n",
       "     price = 3235.49;\n",
       "     link =\n",
       "      \"/url?url=https://www.tradeinn.com/techinn/pt/asus-placa-grafica-rog-strix-rtx-3060-ti-oc-8gb-gddr6/139130899/p%\"... (* string length 305; truncated *);\n",
       "     seller = \"Techinn.com\"});\n",
       "   (\"Placa De Vídeo Asus Geforce RTX 3060 Ko V2 LHR 12 Gb GDDR6\",\n",
       "    {title = \"Placa De Vídeo Asus Geforce RTX 3060 Ko V2 LHR 12 Gb GDDR6\";\n",
       "     price = 4711.38;\n",
       "     link =\n",
       "      \"/url?url=http://www.infolokos.com.br/produto/processador-grafico-asus-geforce-ko-rtx-3060-v2-oc-editio\"... (* string length 247; truncated *);\n",
       "     seller = \"infolokos.com.br\"});\n",
       "   (\"Placa De Vídeo Asus Geforce RTX 3060 Tuf Gaming 12GB GDDR6\",\n",
       "    {title = \"Placa De Vídeo Asus Geforce RTX 3060 Tuf Gaming 12GB GDDR6\";\n",
       "     price = 7699.;\n",
       "     link =\n",
       "      \"/url?url=https://www.allianzparqueshop.com.br/CXW-0049-006%3Fcampaign%3Dgoogle-pla&rct=j&q=&e\"... (* string length 182; truncated *);\n",
       "     seller = \"Allianz Parque Shop\"});\n",
       "   (\"Placa De Vídeo Asus Geforce Tuf Gaming RTX 3060 12GB V2\",\n",
       "    {title = \"Placa De Vídeo Asus Geforce Tuf Gaming RTX 3060 12GB V2\";\n",
       "     price = 2798.99;\n",
       "     link =\n",
       "      \"/url?url=https://www.pichau.com.br/placa-de-video-asus-geforce-rtx-3060-tuf-gaming-o\"... (* string length 231; truncated *);\n",
       "     seller = \"Pichau\"});\n",
       "   (\"Placa De Vídeo EVGA Geforce RTX 3060 Xc Gaming 12GB GDDR6 - 12G-P5-3657-KR\",\n",
       "    {title =\n",
       "      \"Placa De Vídeo EVGA Geforce RTX 3060 Xc Gaming 12GB GDDR6 - 12G-P5-3657-KR\";\n",
       "     price = 4445.77;\n",
       "     link =\n",
       "      \"/url?url=https://www.pichau.com.br/placa-de-video-evga-geforce-rtx-3060-xc-\"... (* string length 208; truncated *);\n",
       "     seller = \"Pichau\"});\n",
       "   (\"Placa De Vídeo Gainward Geforce RTX 3050 8gb Pegasus GDDR6 - NE630500\"... (* string length 80; truncated *),\n",
       "    {title =\n",
       "      \"Placa De Vídeo Gainward Geforce RTX 3050 8gb Pegasus GDDR6 - NE6305\"... (* string length 80; truncated *);\n",
       "     price = 2448.81;\n",
       "     link =\n",
       "      \"/url?url=https://www.gigantec.com.br/placa-de-video-nvidia-gainwar\"... (* string length 298; truncated *);\n",
       "     seller = \"Gigantec A Gigante da Tecnologia\"});\n",
       "   (\"Placa De Vídeo Gainward Geforce RTX 3060 Ghost Oc 12GB\",\n",
       "    {title = \"Placa De Vídeo Gainward Geforce RTX 3060 Ghost Oc 12GB\";\n",
       "     price = 3099.9;\n",
       "     link =\n",
       "      \"/url?url=https://www.noxusit.com.br/placa-de-video-rtx306\"... (* string length 275; truncated *);\n",
       "     seller = \"Noxus IT\"});\n",
       "   (\"Placa De Vídeo Gainward Geforce RTX 3060 Pegasus 12\"... (* string length 60; truncated *),\n",
       "    {title =\n",
       "      \"Placa De Vídeo Gainward Geforce RTX 3060 Pegasus \"... (* string length 60; truncated *);\n",
       "     price = 3448.85;\n",
       "     link =\n",
       "      \"/url?url=https://www.carrefour.com.br/placa-de-v\"... (* string length 234; truncated *);\n",
       "     seller = \"Carrefour\"});\n",
       "   (\"Placa De Vídeo Gainward Geforce RTX 3060 T\"... (* string length 60; truncated *),\n",
       "    {title =\n",
       "      \"Placa De Vídeo Gainward Geforce RTX 3060\"... (* string length 60; truncated *);\n",
       "     price = 2999.99;\n",
       "     link =\n",
       "      \"/url?url=https://www.gkinfostore.com.br\"... (* string length 210; truncated *);\n",
       "     seller = \"gkinfostore.com.br\"});\n",
       "   (\"Placa De Vídeo Gainward Ghost Gef\"... (* string length 59; truncated *),\n",
       "    {title =\n",
       "      \"Placa De Vídeo Gainward Ghost G\"... (* string length 59; truncated *);\n",
       "     price = 2899.99;\n",
       "     link =\n",
       "      \"/url?url=https://www.waz.com.b\"... (* string length 249; truncated *);\n",
       "     seller = \"WAZ\"});\n",
       "   (\"Placa De Vídeo Galax Gef\"... (* string length 81; truncated *),\n",
       "    {title = \"Placa De Vídeo Galax G\"... (* string length 81; truncated *);\n",
       "     price = 3569.11;\n",
       "     link = \"/url?url=https://www.\"... (* string length 232; truncated *);\n",
       "     seller = \"ibyte\"});\n",
       "   (\"Placa De Vídeo \"... (* string length 75; truncated *),\n",
       "    {title = \"Placa De Víde\"... (* string length 75; truncated *);\n",
       "     price = 2398.99;\n",
       "     link = \"/url?url=htt\"... (* string length 230; truncated *);\n",
       "     seller = \"ITX Gamer\"});\n",
       "   (\"Placa D\"... (* string length 56; truncated *),\n",
       "    {title = \"Placa\"... (* string length 56; truncated *); price = 2859.4;\n",
       "     link = \"/ur\"... (* string length 208; truncated *);\n",
       "     seller = \"FG\"... (* string length 5; truncated *)});\n",
       "   (...); ...]\n"
      ]
     },
     "execution_count": 63,
     "metadata": {},
     "output_type": "execute_result"
    }
   ],
   "source": [
    "let bindings = r |> OfferMap.bindings "
   ]
  },
  {
   "cell_type": "code",
   "execution_count": 53,
   "id": "f3a2e465",
   "metadata": {
    "vscode": {
     "languageId": "ocaml"
    }
   },
   "outputs": [
    {
     "data": {
      "text/plain": [
       "- : int = 59\n"
      ]
     },
     "execution_count": 53,
     "metadata": {},
     "output_type": "execute_result"
    }
   ],
   "source": [
    "List.length bindings "
   ]
  },
  {
   "cell_type": "code",
   "execution_count": 61,
   "id": "f5986cf9",
   "metadata": {
    "vscode": {
     "languageId": "ocaml"
    }
   },
   "outputs": [
    {
     "data": {
      "text/plain": [
       "- : float = 2599.\n"
      ]
     },
     "execution_count": 61,
     "metadata": {},
     "output_type": "execute_result"
    }
   ],
   "source": [
    "let container =\n",
    "  try\n",
    "    link_element\n",
    "    |> parent_exn\n",
    "    |> parent_exn\n",
    "    |> parent_exn\n",
    "    |> parent_exn\n",
    "  with _ -> failwith \"Failed to find link container\" in\n",
    "container\n",
    "  $ \"span > span > span > span\" |> R.leaf_text  |> remove_nondigit |> float_of_string |> (fun n -> n /. 100.) "
   ]
  },
  {
   "cell_type": "code",
   "execution_count": 67,
   "id": "b5e4c8c9",
   "metadata": {
    "vscode": {
     "languageId": "ocaml"
    }
   },
   "outputs": [
    {
     "data": {
      "text/plain": [
       "val fetch_page : string -> Soup.soup Soup.node Lwt.t = <fun>\n"
      ]
     },
     "execution_count": 67,
     "metadata": {},
     "output_type": "execute_result"
    }
   ],
   "source": [
    "\n",
    "let fetch_page url =\n",
    "  Client.call ~headers `GET (Uri.of_string url) >>= fun (_res, body_stream) ->\n",
    "  body_stream |> Cohttp_lwt.Body.to_string >|= Soup.parse"
   ]
  },
  {
   "cell_type": "code",
   "execution_count": 77,
   "id": "bb53075f",
   "metadata": {
    "vscode": {
     "languageId": "ocaml"
    }
   },
   "outputs": [
    {
     "data": {
      "text/plain": [
       "- : offer list =\n",
       "[{title =\n",
       "   \"Computador notebook de alta performance, 15.6 polegadas, ddr4, 8gb, 1tb, hdd, i3 ...\";\n",
       "  price = 584.84;\n",
       "  link =\n",
       "   \"/url?url=https://s.click.aliexpress.com/deep_link.htm%3Faff_short_key%3DUneMJZVf%26dl_target_url%3Dhttps%253A%252F%252Fwww.aliexpress.com%252Fitem%252F4000983950446.html%253F_randl_currency%253DBRL%2526_randl_shipto%253DBR%2526src%253Dgoogle&rct=j&q=&esrc=s&sa=U&ved=0ahUKEwjcmoTVx-P5AhXcnpUCHSw\"... (* string length 341; truncated *);\n",
       "  seller = \"AliExpress.com\"};\n",
       " {title =\n",
       "   \"Computador notebook i7 barato, 15.6 polegadas, 8gb ram, 256 512gb, ssd, oem/odm ...\";\n",
       "  price = 1116.29;\n",
       "  link =\n",
       "   \"/url?url=https://s.click.aliexpress.com/deep_link.htm%3Faff_short_key%3DUneMJZVf%26dl_target_url%3Dhttps%253A%252F%252Fwww.aliexpress.com%252Fitem%252F1005002437842885.html%253F_randl_currency%253DBRL%2526_randl_shipto%253DBR%2526src%253Dgoogle&rct=j&q=&esrc=s&sa=U&ved=0ahUKEwjcmoTVx-P5AhX\"... (* string length 344; truncated *);\n",
       "  seller = \"AliExpress.com\"};\n",
       " {title =\n",
       "   \"Notebook 15.6 metal core i7 8gb ram 256gb ssd + 1tb retroiluminado, computador ...\";\n",
       "  price = 1116.29;\n",
       "  link =\n",
       "   \"/url?url=https://s.click.aliexpress.com/deep_link.htm%3Faff_short_key%3DUneMJZVf%26dl_target_url%3Dhttps%253A%252F%252Fwww.aliexpress.com%252Fitem%252F1005002437997366.html%253F_randl_currency%253DBRL%2526_randl_shipto%253DBR%2526src%253Dgoogle&rct=j&q=&esrc=s&sa=U&ved=0ahUKEwjcmoTVx-\"... (* string length 344; truncated *);\n",
       "  seller = \"AliExpress.com\"};\n",
       " {title =\n",
       "   \"Notebook com tela de 15.6 polegadas estuden, notebook i5, i7, 8 gb ram, hdmi ...\";\n",
       "  price = 1604.28;\n",
       "  link =\n",
       "   \"/url?url=https://s.click.aliexpress.com/deep_link.htm%3Faff_short_key%3DUneMJZVf%26dl_target_url%3Dhttps%253A%252F%252Fwww.aliexpress.com%252Fitem%252F1005002912668694.html%253F_randl_currency%253DBRL%2526_randl_shipto%253DBR%2526src%253Dgoogle&rct=j&q=&esrc=s&sa=U&ved=0ahUKEwjcm\"... (* string length 344; truncated *);\n",
       "  seller = \"AliExpress.com\"};\n",
       " {title =\n",
       "   \"15.6 inch i7 Laptops With 8G RAM 2.5 inch HDD SSD Ultrabook Win10 Notebook ...\";\n",
       "  price = 1707.95;\n",
       "  link =\n",
       "   \"/url?url=https://s.click.aliexpress.com/deep_link.htm%3Faff_short_key%3DUneMJZVf%26dl_target_url%3Dhttps%253A%252F%252Fwww.aliexpress.com%252Fitem%252F1005004121642829.html%253F_randl_currency%253DBRL%2526_randl_shipto%253DBR%2526src%253Dgoogle&rct=j&q=&esrc=s&sa=U&ved=0ahUK\"... (* string length 344; truncated *);\n",
       "  seller = \"AliExpress.com\"};\n",
       " {title = \"Lenovo | Notebook Lenovo Core I7 | Usado\"; price = 1850.;\n",
       "  link =\n",
       "   \"/url?url=https://www.enjoei.com.br/p/notebook-lenovo-core-i7-75064130%3Fg_campaign%3Dgoogle_shopping&rct=j&q=&esrc=s&sa=U&ved=0ahUKEwjcmoTVx-P5AhXcnpUCHSwjBYkQgOUECLQP&usg=AOvVaw3gpC7J5IYAxI4C1KJTj5wa\";\n",
       "  seller = \"Enjoei.com\"};\n",
       " {title =\n",
       "   \"Usado Notebook Hp Probook 6470B Core I7 Hd 500Gb 4Gb Windows 10 Pro\";\n",
       "  price = 1969.;\n",
       "  link =\n",
       "   \"/url?url=https://www.carrefour.com.br/usado-notebook-hp-probook-6470b-core-i7-hd-500gb-4gb-windows-10-pro-mp928690597/p&rct=j&q=&esrc=s&sa=U&ved=0ahUKEwjcmoTVx-P5AhXcnpUCHSwjBYkQgOUECPQT&usg=AOvVaw1Npb7ipoDcSH-YxYJnM6ix\";\n",
       "  seller = \"Carrefour\"};\n",
       " {title = \"Samsung | Notebook Gamer Samsung I7 10° | Usado\"; price = 2150.;\n",
       "  link =\n",
       "   \"/url?url=https://www.enjoei.com.br/p/notebook-gamer-samsung-i7-10-72820724%3Fg_campaign%3Dgoogle_shopping&rct=j&q=&esrc=s&sa=U&ved=0ahUKEwjcmoTVx-P5AhXcnpUCHSwjBYkQgOUECPIN&usg=AOvVaw1NZFMsY-R9dzBZFxDbYgCP\";\n",
       "  seller = \"Enjoei.com\"};\n",
       " {title =\n",
       "   \"15.6 Polegada notebook intel core i9 10880h i7 1165g7 ultrabook max 32gb ram 2tb ...\";\n",
       "  price = 2259.14;\n",
       "  link =\n",
       "   \"/url?url=https://s.click.aliexpress.com/deep_link.htm%3Faff_short_key%3DUneMJZVf%26dl_target_url%3Dhttps%253A%252F%252Fwww.aliexpress.com%252Fitem%252F1005002369211879.html%253F_randl_currency%253DBRL%2526_randl_shipto%253DBR%2526src%253Dgoogle&rct=j&q=&e\"... (* string length 344; truncated *);\n",
       "  seller = \"AliExpress.com\"};\n",
       " {title =\n",
       "   \"-usado: Notebook Lenovo Core I7 - Ssd240gb - Usado Funcionando Barato - notbook ...\";\n",
       "  price = 2354.;\n",
       "  link =\n",
       "   \"/url?url=https://www.extra.com.br/-usado-notebook-lenovo-core-i7-ssd240gb-usado-funcionando-barato-notbook-nootbook-notebooks-1542712993/p/1542712993%3Futm_medium%3Dcpc%26utm_source%3Dgoogle_freelisting%26IdSku%3D1542712993%26idLojista%3D82190%26tipo\"... (* string length 362; truncated *);\n",
       "  seller = \"Extra.com.br\"};\n",
       " {title = \"Notebook Dell Inspiron 5448 I7 / 8gb Ram / 120gb Ssd\";\n",
       "  price = 2659.91;\n",
       "  link =\n",
       "   \"/url?url=https://www.pcdistribuidora.com.br/informatica/notebooks/i3-i5-e-i7/notebook-dell-inspiron-i78gb120ssd-&rct=j&q=&esrc=s&sa=U&ved=0ahUKEwjcmoTVx-P5AhXcnpUCHSwjBYkQgOUECIsQ&usg=AOvVaw2B5Y4mmDKVgxUE_4bMMBNH\";\n",
       "  seller = \"PC Distribuidora\"};\n",
       " {title =\n",
       "   \"Notebook Dell Latitude 3470 Core I7 Hd 500gb 8gb Ram 14\\\" Windows 10 Pro\";\n",
       "  price = 2899.;\n",
       "  link =\n",
       "   \"/url?url=https://www.carrefour.com.br/usado-notebook-dell-latitude-3470-core-i7-hd-500gb-8gb-ram-14-windows-10-pro-mp928699904/p&rct=j&q=&esrc=s&sa=U&ved=0ahUKEwjcmoTVx-P5AhXcnpUCHSwjBYkQguUECMES&usg=AOvVaw3vuzhaL13MIJZMmdFphjSf\";\n",
       "  seller = \"Carrefour\"};\n",
       " {title = \"Notebook Lenovo Ideapad S145 Core I7 8gb 1tb W10 15.6\";\n",
       "  price = 2925.05;\n",
       "  link =\n",
       "   \"/url?url=https://www.submarino.com.br/produto/4918728927%3Fopn%3DXMLGOOGLE%26offerId%3D6256bc4bd9f593c3e839135b&rct=j&q=&esrc=s&sa=U&ved=0ahUKEwjcmoTVx-P5AhXcnpUCHSwjBYkQguUECNMN&usg=AOvVaw3cHhHl2GybZNpUfnRJtNrS\";\n",
       "  seller = \"Submarino\"};\n",
       " {title =\n",
       "   \"Usado Notebook Dell Latitude 3440 Core I7 Ssd 240Gb 8Gb Windows 10 Pro\";\n",
       "  price = 2949.;\n",
       "  link =\n",
       "   \"/url?url=https://www.carrefour.com.br/usado-notebook-dell-latitude-3440-core-i7-ssd-240gb-8gb-windows-10-pro-mp928888787/p&rct=j&q=&esrc=s&sa=U&ved=0ahUKEwjcmoTVx-P5AhXcnpUCHSwjBYkQgOUECJEO&usg=AOvVaw1PUK9cFwavQLow1kDSbENq\";\n",
       "  seller = \"Carrefour\"};\n",
       " {title =\n",
       "   \"Dell | Notebook Dell Inspiron 5448 Intel Core I7 Com Touchscreen E Placa De Vídeo ...\";\n",
       "  price = 2950.;\n",
       "  link =\n",
       "   \"/url?url=https://www.enjoei.com.br/p/notebook-dell-inspiron-5448-intel-core-i7-com-touchscreen-e-placa-de-video-amd-radeon-r7-72894583%3Fg_campaign%3Dgoogle_shopping&rct=j&q=&esrc=s&sa=U&ved=0ahUKEwjcmoTVx-P5AhXcnpUCHSwjBYkQg\"... (* string length 265; truncated *);\n",
       "  seller = \"Enjoei.com\"};\n",
       " {title = \"Notebook Dell Latitude 5480 i7 6a 8gb 500gb HD Dell\";\n",
       "  price = 3216.87;\n",
       "  link =\n",
       "   \"/url?url=https://shopee.com.br/Notebook-Dell--Latitude-5480-i7-6a-8gb-500gb-HD-i.333266163.18508233537&rct=j&q=&esrc=s&sa=U&ved=0ahUKEwjcmoTVx-P5AhXcnpUCHSwjBYkQgOUECLQS&usg=AOvVaw3Y9qraypPQBQXzomajIFKt\";\n",
       "  seller = \"Shopee\"};\n",
       " {title =\n",
       "   \"Notebook Lenovo Ideapad S145 81S90003BR - Prata - Intel Core i7-8565U - MX110 ...\";\n",
       "  price = 3299.;\n",
       "  link =\n",
       "   \"/url?url=https://www.americanas.com.br/produto/5501003816%3Fopn%3DYSMESP%26offerId%3D62e1b14fadbc5f39b9d1ddb7%26srsltid%3DAdGWZVTPBBX7lPls1IsFZk4-JugzKyR38aXnkkS994PfPIyOK3s2ntC9Rig&rct=j&q=&esrc=s&sa=U&ved=0ahUKEwj\"... (* string length 281; truncated *);\n",
       "  seller = \"Americanas.com\"};\n",
       " {title = \"Notebook Dell 3470 Hdmi Core I7 Ssd 120 Gb 4gb\"; price = 3300.;\n",
       "  link =\n",
       "   \"/url?url=https://produto.mercadolivre.com.br/MLB-2603233173-notebook-dell-3470-hdmi-core-i7-ssd-120-gb-4gb-_JM%3Fmatt_tool%3D18956390%26utm_source%3Dgoogle_shopping%26utm_medium%3Dorganic&rct=j&q=&esrc=s&sa=U&v\"... (* string length 287; truncated *);\n",
       "  seller = \"Mercado Livre\"};\n",
       " {title =\n",
       "   \"Notebook Vivobook Asus, Intel Core i7-1165G7, 8GB, 1Tb+256Gb SSD, Tela De 15,6 ...\";\n",
       "  price = 3599.;\n",
       "  link =\n",
       "   \"/url?url=https://www.fastshop.com.br/web/p/d/UXX513EJ3012_PRD/notebook-asus-i7-8gb-256ssd-15-6-pol-black-x513ea-ej3012w-fast/%3Fpartner%3Dparceiro-google%26cm_mmc%3Dcpc_Shopping-_-UXX513EJ3012_PRD&rct=j&q=\"... (* string length 296; truncated *);\n",
       "  seller = \"Fast Shop\"};\n",
       " {title =\n",
       "   \"Melhor núcleo i7 notebook 16gb ram 256gb ssd + 2tb hdd 15.6 Polegada ips tela ...\";\n",
       "  price = 3615.92;\n",
       "  link =\n",
       "   \"/url?url=https://s.click.aliexpress.com/deep_link.htm%3Faff_short_key%3DUneMJZVf%26dl_target_url%3Dhttps%253A%252F%252Fwww.aliexpress.com%252Fitem%252F1005003324256723.html%253F_randl_currency%253DBRL\"... (* string length 344; truncated *);\n",
       "  seller = \"AliExpress.com\"};\n",
       " {title =\n",
       "   \"Notebook 15,6\\\" Ideapad S145 i7-1065G7, 8GB, Ssd 256GB, Windows 10 Home ...\";\n",
       "  price = 3999.;\n",
       "  link =\n",
       "   \"/url?url=https://www.saldaodainformatica.com.br/notebook/notebook-lenovo-ideapad-s145-81s9000kbr-prata-intel-core-i7-8565u-ram-8gb-ssd-256gb-tela-156-windows-10&rct=j&q=&esrc=s&sa=U&ved=0ahUKEwjc\"... (* string length 260; truncated *);\n",
       "  seller = \"Saldão da Informática\"};\n",
       " {title = \"Notebook Lenovo Ideapad 3i Core I7 8gb 256GB Ssd 82BS000MBR\";\n",
       "  price = 3999.;\n",
       "  link =\n",
       "   \"/url?url=https://www.extra.com.br/notebook-lenovo-core-i7-10510u-8gb-256gb-ssd-placa-de-video-2gb-tela-15-6-windows-11-ideapad-3i-82bs000mbr-55039410/p/55039410%3Futm_medium%3Dcpc%26utm_sour\"... (* string length 368; truncated *);\n",
       "  seller = \"Extra.com.br\"};\n",
       " {title = \"Notebook Acer A515-54-76NA - I7, 8GB, Ssd 512GB, FHD, Linux\";\n",
       "  price = 4099.99;\n",
       "  link =\n",
       "   \"/url?url=https://www.shoptime.com.br/produto/4638496762%3Fopn%3DGOOGLEXML%26offerId%3D61fa999d062ff5a574f93bc3&rct=j&q=&esrc=s&sa=U&ved=0ahUKEwjcmoTVx-P5AhXcnpUCHSwjBYkQguUECIQR&usg=AOv\"... (* string length 210; truncated *);\n",
       "  seller = \"Shoptime\"};\n",
       " {title = \"Notebook Dell Latitude 7390 I7 8a Ram 16gb 256 Ssd\";\n",
       "  price = 4349.;\n",
       "  link =\n",
       "   \"/url?url=https://produto.mercadolivre.com.br/MLB-2668547509-notebook-dell-latitude-7390-i7-8-ram-16gb-256-ssd-_JM%3Fmatt_tool%3D18956390%26utm_source%3Dgoogle_shopping%26utm_medium\"... (* string length 290; truncated *);\n",
       "  seller = \"Mercado Livre\"};\n",
       " {title = \"Notebook Samsung Book Intel Core I7, Windows 11, 8GB, 1tb Hd\";\n",
       "  price = 4399.;\n",
       "  link =\n",
       "   \"/url?url=https://www.fujioka.com.br/notebook-samsung-book-intel-core-i71165g7-windows-11-home-8gb-1tb-hd-intel-iris-xe-156-full-hd-led-571603/p%3Fidsku%3D25627&rct=j&q=&esrc=s\"... (* string length 259; truncated *);\n",
       "  seller = \"Fujioka\"};\n",
       " {title =\n",
       "   \"Notebook Samsung Book Intel Core i7-1165G7 8gb Ssd 256GB 15.6\\\" Windows 11 Home\";\n",
       "  price = 4409.1;\n",
       "  link =\n",
       "   \"/url?url=https://shop.samsung.com/br/samsung-book-ku1br/p%3Fidsku%3D2383&rct=j&q=&esrc=s&sa=U&ved=0ahUKEwjcmoTVx-P5AhXcnpUCHSwjBYkQguUECM0O&usg=AOvVaw2Qz02s367TQGAwNMF-3y\"... (* string length 172; truncated *);\n",
       "  seller = \"shop.samsung.com/br\"};\n",
       " {title =\n",
       "   \"Notebook Dell Vostro V15-3510-U40T 15.6\\\" Full Hd 11a Geração Intel Core I7 8gb ...\";\n",
       "  price = 4649.99;\n",
       "  link =\n",
       "   \"/url?url=https://www.magazineluiza.com.br/notebook-dell-vostro-v15-3510-u40t-15-6-full-hd-11a-ger-intel-core-i7-8gb-256gb-ssd-linux-cinza/p/jcjd597gjd/in/note/%3F%26\"... (* string length 280; truncated *);\n",
       "  seller = \"Magazine Luiza\"};\n",
       " {title =\n",
       "   \"Notebook Lenovo Ideapad 3i, Intel Core i7-10510U, 8GB, 256GB Ssd,Tela\";\n",
       "  price = 4699.99;\n",
       "  link =\n",
       "   \"/url?url=https://www.americanas.com.br/produto/5189731367%3Fopn%3DYSMESP%26offerId%3D6294db0d234ca7e6fd98df26%26srsltid%3DAdGWZVTDL74BE7XT2nYlcavqjjw0I3nTSu9PlL\"... (* string length 281; truncated *);\n",
       "  seller = \"Americanas.com\"};\n",
       " {title =\n",
       "   \"Notebook Lenovo Ideapad 3i i7-1165G7 16gb 512gb Ssd Placa De Vídeo Intel Iris Xe ...\";\n",
       "  price = 4949.1;\n",
       "  link =\n",
       "   \"/url?url=https://www.magazineluiza.com.br/notebook-lenovo-ideapad-3i-i7-1165g7-16gb-512gb-ssd-placa-de-video-intel-iris-xe-windows-11-15-6/p/de8ahg335a/in/\"... (* string length 291; truncated *);\n",
       "  seller = \"Magazine Luiza\"};\n",
       " {title =\n",
       "   \"Notebook Asus Vivobook X513EA-EJ3010W Intel Core I7 1165G7 8gb 256GB Ssd W11 15 ...\";\n",
       "  price = 4967.08;\n",
       "  link =\n",
       "   \"/url?url=https://www.kalunga.com.br/prod/notebook-x513ea-asus-processador-core-i7-8gb-de-memoria-256gb-ssd-de-armazenamento-tela-de-15-windows-11-home\"... (* string length 271; truncated *);\n",
       "  seller = \"Kalunga\"};\n",
       " {title = \"Notebook Samsung Book Intel Core I7 8gb Ssd 256GB\";\n",
       "  price = 5200.09;\n",
       "  link =\n",
       "   \"/url?url=https://www.forcetech.com.br/products/samsung-book-intel-np550xda-ks1br%3Fvariant%3D41962090266867&rct=j&q=&esrc=s&sa=U&ved=0ahUKEwjcmoT\"... (* string length 207; truncated *);\n",
       "  seller = \"Forcetech bsb\"};\n",
       " {title = \"Notebook Dell Inspiron Series 3501 Intel Core I7\";\n",
       "  price = 5248.46;\n",
       "  link =\n",
       "   \"/url?url=https://www.submarino.com.br/produto/5236947663%3Fopn%3DXMLGOOGLE%26offerId%3D629fb5b8f9597d67495376b8&rct=j&q=&esrc=s&sa=U&ved=0ah\"... (* string length 211; truncated *);\n",
       "  seller = \"Submarino\"};\n",
       " {title = \"Notebook Dell Core I7 32gb 256gb Ssd Nvidia Quadro 4gb Fhd\";\n",
       "  price = 5290.;\n",
       "  link =\n",
       "   \"/url?url=https://produto.mercadolivre.com.br/MLB-2709602760-notebook-dell-core-i7-32gb-256gb-ssd-nvidia-quadro-4gb-fhd-_JM%3Fmatt_tool%\"... (* string length 299; truncated *);\n",
       "  seller = \"Mercado Livre\"};\n",
       " {title =\n",
       "   \"Notebook Ideapad Gaming 3i I7-10750H 8gb 512gb Ssd Gtx 1650 4gb 15.6\\\" Fhd Wva ...\";\n",
       "  price = 5299.99;\n",
       "  link =\n",
       "   \"/url?url=https://www.kabum.com.br/produto/340740/notebook-gamer-lenovo-3i-intel-core-i7-10750h-geforce-gtx-1650-8gb-ram-ssd-512gb-\"... (* string length 355; truncated *);\n",
       "  seller = \"KaBuM!\"};\n",
       " {title =\n",
       "   \"Notebook Samsung - I7 1165G7, 16GB, Ssd 256GB, Intel Graphics Xe, Full HD ...\";\n",
       "  price = 5299.9;\n",
       "  link =\n",
       "   \"/url?url=https://www.oficinadosbits.com.br/afiliados/32/notebook-samsung-book-intel-i7-1165g7-ram-16gb-ssd-256gb-intel-graphi\"... (* string length 326; truncated *);\n",
       "  seller = \"Oficina dos Bits\"};\n",
       " {title =\n",
       "   \"Notebook Lenovo Ideapad Flex 5i i7-1165G7 8gb 256GB Ssd W11 14\\\" Fhd Intel Iris Xe\";\n",
       "  price = 5399.99;\n",
       "  link =\n",
       "   \"/url?url=https://www.lenovo.com/br/pt/laptops/ideapad/serie-flex/IdeaPad-Flex-5-14ITL-05/p/82LT0006BR&rct=j&q=&esrc=s&sa\"... (* string length 201; truncated *);\n",
       "  seller = \"Lenovo\"};\n",
       " {title =\n",
       "   \"Notebook Gamer Lenovo GAMING3i Intel CoreT I7 Nvidia Gtx 1650 8gb 512gb Ssd Linux ...\";\n",
       "  price = 5510.94;\n",
       "  link =\n",
       "   \"/url?url=https://www.novomundo.com.br/notebook-gamer-lenovo-gaming3i-intel%25C2%25AE-coret-i7-nvidia-gtx-1650-8gb-5\"... (* string length 330; truncated *);\n",
       "  seller = \"Novo Mundo\"};\n",
       " {title =\n",
       "   \"Notebook Asus Vivobook X513EA-EJ3011W Intel Core I7 1165G7 16gb 512gb Ssd W11 15 ...\";\n",
       "  price = 5524.15;\n",
       "  link =\n",
       "   \"/url?url=https://www.casasbahia.com.br/notebook-asus-vivobook-x513ea-ej3011w-intel-core-i7-1165g7-16gb-512gb-s\"... (* string length 368; truncated *);\n",
       "  seller = \"Casas Bahia\"};\n",
       " {title =\n",
       "   \"Notebook Msi Modern 14, Intel i7-1165G7, 14, FHD, 8gb DDR4, Ssd 512gb M.2, Blue Stone\";\n",
       "  price = 5529.9;\n",
       "  link =\n",
       "   \"/url?url=https://www.pichau.com.br/notebook-msi-modern-14-intel-i7-1165g7-14-fhd-8gb-ddr4-ssd-512gb-m-2-b\"... (* string length 234; truncated *);\n",
       "  seller = \"Pichau\"};\n",
       " {title =\n",
       "   \"Notebook Msi Modern 14, Intel i7-1195G7, 14, FHD, 8gb DDR4, Ssd 512gb M.2, Carbon ...\";\n",
       "  price = 5529.9;\n",
       "  link =\n",
       "   \"/url?url=https://www.pichau.com.br/notebook-msi-modern-14-intel-i7-1195g7-14-fhd-8gb-ddr4-ssd-512gb-\"... (* string length 236; truncated *);\n",
       "  seller = \"Pichau\"};\n",
       " {title =\n",
       "   \"Notebook Msi Modern 14, Intel i7-1165G7, 14, FHD, 8gb DDR4, Ssd 512gb M.2, Beige ...\";\n",
       "  price = 5539.9;\n",
       "  link =\n",
       "   \"/url?url=https://www.pichau.com.br/notebook-msi-modern-14-intel-i7-1165g7-14-fhd-8gb-ddr4-ssd-5\"... (* string length 236; truncated *);\n",
       "  seller = \"Pichau\"};\n",
       " {title = \"Notebook Dell Core I7 32gb 256gb Ssd Nvidia 4gb 15.6 Fhd\";\n",
       "  price = 5590.;\n",
       "  link =\n",
       "   \"/url?url=https://produto.mercadolivre.com.br/MLB-2709601774-notebook-dell-core-i7-32gb-256\"... (* string length 296; truncated *);\n",
       "  seller = \"Mercado Livre\"};\n",
       " {title =\n",
       "   \"Notebook Gamer Acer Nitro 5 AN517-52-77KZ Intel Core I7 Windows 11 Home 8gb 512gb ...\";\n",
       "  price = 5999.;\n",
       "  link =\n",
       "   \"/url?url=https://br-store.acer.com/notebook-acer-an517-52-77kz-ci710750h-8gb-512gb-ss\"... (* string length 249; truncated *);\n",
       "  seller = \"Loja Acer\"};\n",
       " {title = \"Notebook Gamer Acer Nitro 5 Intel Core I7 8gb 512gb Ssd W11\";\n",
       "  price = 5999.9;\n",
       "  link =\n",
       "   \"/url?url=https://www.havan.com.br/notebook-acer-gamer-intel-core-i7-8gb-ram-512g\"... (* string length 208; truncated *);\n",
       "  seller = \"Havan\"};\n",
       " {title =\n",
       "   \"Notebook Dell G15 5511 I7-11800H Memoria 16GB Ssd 512GB Geforce Rtx 3060 6gb \"... (* string length 85; truncated *);\n",
       "  price = 6034.15;\n",
       "  link =\n",
       "   \"/url?url=https://www.concordia.inf.br/outlet/notebook-dell-g15-5511-i7-1180\"... (* string length 276; truncated *);\n",
       "  seller = \"Concórdia Informática\"};\n",
       " {title =\n",
       "   \"Notebook Dell Inspiron 15 i1101-M60S 15.6 Full Hd 11a Geração Intel Co\"... (* string length 86; truncated *);\n",
       "  price = 6209.;\n",
       "  link =\n",
       "   \"/url?url=https://www.pontofrio.com.br/notebook-dell-inspiron-15-i1101-\"... (* string length 389; truncated *);\n",
       "  seller = \"Pontofrio.com\"};\n",
       " {title =\n",
       "   \"Notebook LG Gram Intel Core i7-1165G7, 16GB, 256GB SSD, Tela 16, IP\"... (* string length 84; truncated *);\n",
       "  price = 6999.99;\n",
       "  link =\n",
       "   \"/url?url=https://www.kabum.com.br/produto/211459/notebook-lg-gram\"... (* string length 345; truncated *);\n",
       "  seller = \"KaBuM!\"};\n",
       " {title =\n",
       "   \"Notebook Dell Inspiron 15 com 11a geração de Intel Core i7 1\"... (* string length 71; truncated *);\n",
       "  price = 7100.;\n",
       "  link =\n",
       "   \"/url?url=https://www.dell.com/pt-br/shop/notebooks/notebook-\"... (* string length 217; truncated *);\n",
       "  seller = \"Dell Brasil\"};\n",
       " {title =\n",
       "   \"Notebook Dell Inspiron 13 com \\\"12a geração de Intel Cor\"... (* string length 74; truncated *);\n",
       "  price = 7999.;\n",
       "  link =\n",
       "   \"/url?url=https://www.dell.com/pt-br/shop/notebooks/novo\"... (* string length 221; truncated *);\n",
       "  seller = \"Dell Brasil\"};\n",
       " {title = \"Notebook Dell i7 8GB 256GB ssd 15.6' Full HD win 11\";\n",
       "  price = 7999.;\n",
       "  link =\n",
       "   \"/url?url=https://www.americanas.com.br/produto/556\"... (* string length 281; truncated *);\n",
       "  seller = \"Americanas.com\"};\n",
       " {title =\n",
       "   \"Notebook Galaxy Book Pro Intel Core I7 16GB, 1t\"... (* string length 67; truncated *);\n",
       "  price = 8531.95;\n",
       "  link =\n",
       "   \"/url?url=https://www.onstores.com.br/notebook\"... (* string length 296; truncated *);\n",
       "  seller = \"On Stores\"};\n",
       " {title =\n",
       "   \"Notebook LG Gram Intel Core i7-1165G7, 16G\"... (* string length 86; truncated *);\n",
       "  price = 9499.;\n",
       "  link =\n",
       "   \"/url?url=https://www.lg.com/br/computado\"... (* string length 227; truncated *);\n",
       "  seller = \"LG Electronics do Brasil\"};\n",
       " {title =\n",
       "   \"Notebook Gamer Predator Helios 300 PH\"... (* string length 84; truncated *);\n",
       "  price = 9999.;\n",
       "  link =\n",
       "   \"/url?url=https://www.compracerta.co\"... (* string length 285; truncated *);\n",
       "  seller = \"Compra Certa\"};\n",
       " {title =\n",
       "   \"Notebook Asus Zenbook Duo UX482E\"... (* string length 84; truncated *);\n",
       "  price = 10999.;\n",
       "  link =\n",
       "   \"/url?url=https://www.casasbahi\"... (* string length 379; truncated *);\n",
       "  seller = \"Casas Bahia\"};\n",
       " {title = \"Notebook Dell Gamer G15-i11\"... (* string length 82; truncated *);\n",
       "  price = 11119.99;\n",
       "  link = \"/url?url=https://www.nets\"... (* string length 248; truncated *);\n",
       "  seller = \"Netshoes\"};\n",
       " {title = \"Notebook Dell XPS 13 P\"... (* string length 69; truncated *);\n",
       "  price = 11600.;\n",
       "  link = \"/url?url=https://www\"... (* string length 207; truncated *);\n",
       "  seller = \"Dell Brasil\"};\n",
       " {title = \"Notebook Gamer Pr\"... (* string length 80; truncated *);\n",
       "  price = 12999.;\n",
       "  link = \"/url?url=https:\"... (* string length 337; truncated *);\n",
       "  seller = \"Lojas Colombo\"};\n",
       " {title = \"Notebook Gam\"... (* string length 83; truncated *);\n",
       "  price = 13529.; link = \"/url?url=h\"... (* string length 225; truncated *);\n",
       "  seller = \"Dell Bras\"... (* string length 11; truncated *)};\n",
       " {title = \"Noteboo\"... (* string length 85; truncated *); price = 28996.;\n",
       "  link = \"/url?\"... (* string length 220; truncated *);\n",
       "  seller = \"Dell\"... (* string length 11; truncated *)}]\n"
      ]
     },
     "execution_count": 77,
     "metadata": {},
     "output_type": "execute_result"
    }
   ],
   "source": [
    "make_search_term \"Notebook i7\" |> fetch_page >|= scrap_offers"
   ]
  }
 ],
 "metadata": {
  "kernelspec": {
   "display_name": "OCaml 4.12.0+flambda+nnpchecker",
   "language": "OCaml",
   "name": "ocaml-jupyter"
  },
  "language_info": {
   "codemirror_mode": "text/x-ocaml",
   "file_extension": ".ml",
   "mimetype": "text/x-ocaml",
   "name": "OCaml",
   "nbconverter_exporter": null,
   "pygments_lexer": "OCaml",
   "version": "4.12.0"
  }
 },
 "nbformat": 4,
 "nbformat_minor": 5
}
